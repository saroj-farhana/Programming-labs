{
 "cells": [
  {
   "cell_type": "markdown",
   "metadata": {
    "collapsed": true
   },
   "source": [
    "# Artificial Intelligence Nanodegree\n",
    "## Machine Translation Project\n",
    "In this notebook, sections that end with **'(IMPLEMENTATION)'** in the header indicate that the following blocks of code will require additional functionality which you must provide. Please be sure to read the instructions carefully!\n",
    "\n",
    "## Introduction\n",
    "In this notebook, you will build a deep neural network that functions as part of an end-to-end machine translation pipeline. Your completed pipeline will accept English text as input and return the French translation.\n",
    "\n",
    "- **Preprocess** - You'll convert text to sequence of integers.\n",
    "- **Models** Create models which accepts a sequence of integers as input and returns a probability distribution over possible translations. After learning about the basic types of neural networks that are often used for machine translation, you will engage in your own investigations, to design your own model!\n",
    "- **Prediction** Run the model on English text."
   ]
  },
  {
   "cell_type": "code",
   "execution_count": 13,
   "metadata": {},
   "outputs": [
    {
     "name": "stdout",
     "output_type": "stream",
     "text": [
      "The autoreload extension is already loaded. To reload it, use:\n",
      "  %reload_ext autoreload\n"
     ]
    }
   ],
   "source": [
    "%load_ext autoreload\n",
    "%aimport helper, tests\n",
    "%autoreload 1"
   ]
  },
  {
   "cell_type": "code",
   "execution_count": 26,
   "metadata": {},
   "outputs": [],
   "source": [
    "import collections\n",
    "\n",
    "import helper\n",
    "import numpy as np\n",
    "import project_tests as tests\n",
    "\n",
    "from keras.preprocessing.text import Tokenizer\n",
    "from keras.preprocessing.sequence import pad_sequences\n",
    "from keras.models import Model,Sequential\n",
    "from keras.layers import GRU, Input, Dense, TimeDistributed, Activation, RepeatVector, Bidirectional,Dropout,SimpleRNN,LSTM\n",
    "from keras.layers.embeddings import Embedding\n",
    "from keras.optimizers import Adam\n",
    "from keras.losses import sparse_categorical_crossentropy"
   ]
  },
  {
   "cell_type": "markdown",
   "metadata": {},
   "source": [
    "### Verify access to the GPU\n",
    "The following test applies only if you expect to be using a GPU, e.g., while running in a Udacity Workspace or using an AWS instance with GPU support. Run the next cell, and verify that the device_type is \"GPU\".\n",
    "- If the device is not GPU & you are running from a Udacity Workspace, then save your workspace with the icon at the top, then click \"enable\" at the bottom of the workspace.\n",
    "- If the device is not GPU & you are running from an AWS instance, then refer to the cloud computing instructions in the classroom to verify your setup steps."
   ]
  },
  {
   "cell_type": "code",
   "execution_count": 15,
   "metadata": {},
   "outputs": [
    {
     "name": "stdout",
     "output_type": "stream",
     "text": [
      "[name: \"/cpu:0\"\n",
      "device_type: \"CPU\"\n",
      "memory_limit: 268435456\n",
      "locality {\n",
      "}\n",
      "incarnation: 13126114748579689392\n",
      "]\n"
     ]
    }
   ],
   "source": [
    "from tensorflow.python.client import device_lib\n",
    "print(device_lib.list_local_devices())"
   ]
  },
  {
   "cell_type": "markdown",
   "metadata": {},
   "source": [
    "## Dataset\n",
    "We begin by investigating the dataset that will be used to train and evaluate your pipeline.  The most common datasets used for machine translation are from [WMT](http://www.statmt.org/).  However, that will take a long time to train a neural network on.  We'll be using a dataset we created for this project that contains a small vocabulary.  You'll be able to train your model in a reasonable time with this dataset.\n",
    "### Load Data\n",
    "The data is located in `data/small_vocab_en` and `data/small_vocab_fr`. The `small_vocab_en` file contains English sentences with their French translations in the `small_vocab_fr` file. Load the English and French data from these files from running the cell below."
   ]
  },
  {
   "cell_type": "code",
   "execution_count": 16,
   "metadata": {},
   "outputs": [
    {
     "name": "stdout",
     "output_type": "stream",
     "text": [
      "Dataset Loaded\n"
     ]
    }
   ],
   "source": [
    "# Load English data\n",
    "english_sentences = helper.load_data('data/small_vocab_en')\n",
    "# Load French data\n",
    "french_sentences = helper.load_data('data/small_vocab_fr')\n",
    "\n",
    "print('Dataset Loaded')"
   ]
  },
  {
   "cell_type": "markdown",
   "metadata": {},
   "source": [
    "### Files\n",
    "Each line in `small_vocab_en` contains an English sentence with the respective translation in each line of `small_vocab_fr`.  View the first two lines from each file."
   ]
  },
  {
   "cell_type": "code",
   "execution_count": 17,
   "metadata": {},
   "outputs": [
    {
     "name": "stdout",
     "output_type": "stream",
     "text": [
      "small_vocab_en Line 1:  new jersey is sometimes quiet during autumn , and it is snowy in april .\n",
      "small_vocab_fr Line 1:  new jersey est parfois calme pendant l' automne , et il est neigeux en avril .\n",
      "small_vocab_en Line 2:  the united states is usually chilly during july , and it is usually freezing in november .\n",
      "small_vocab_fr Line 2:  les Ã©tats-unis est gÃ©nÃ©ralement froid en juillet , et il gÃ¨le habituellement en novembre .\n"
     ]
    }
   ],
   "source": [
    "for sample_i in range(2):\n",
    "    print('small_vocab_en Line {}:  {}'.format(sample_i + 1, english_sentences[sample_i]))\n",
    "    print('small_vocab_fr Line {}:  {}'.format(sample_i + 1, french_sentences[sample_i]))"
   ]
  },
  {
   "cell_type": "markdown",
   "metadata": {},
   "source": [
    "From looking at the sentences, you can see they have been preprocessed already.  The puncuations have been delimited using spaces. All the text have been converted to lowercase.  This should save you some time, but the text requires more preprocessing.\n",
    "### Vocabulary\n",
    "The complexity of the problem is determined by the complexity of the vocabulary.  A more complex vocabulary is a more complex problem.  Let's look at the complexity of the dataset we'll be working with."
   ]
  },
  {
   "cell_type": "code",
   "execution_count": 18,
   "metadata": {},
   "outputs": [
    {
     "name": "stdout",
     "output_type": "stream",
     "text": [
      "1823250 English words.\n",
      "227 unique English words.\n",
      "10 Most common words in the English dataset:\n",
      "\"is\" \",\" \".\" \"in\" \"it\" \"during\" \"the\" \"but\" \"and\" \"sometimes\"\n",
      "\n",
      "1961295 French words.\n",
      "355 unique French words.\n",
      "10 Most common words in the French dataset:\n",
      "\"est\" \".\" \",\" \"en\" \"il\" \"les\" \"mais\" \"et\" \"la\" \"parfois\"\n"
     ]
    }
   ],
   "source": [
    "english_words_counter = collections.Counter([word for sentence in english_sentences for word in sentence.split()])\n",
    "french_words_counter = collections.Counter([word for sentence in french_sentences for word in sentence.split()])\n",
    "\n",
    "print('{} English words.'.format(len([word for sentence in english_sentences for word in sentence.split()])))\n",
    "print('{} unique English words.'.format(len(english_words_counter)))\n",
    "print('10 Most common words in the English dataset:')\n",
    "print('\"' + '\" \"'.join(list(zip(*english_words_counter.most_common(10)))[0]) + '\"')\n",
    "print()\n",
    "print('{} French words.'.format(len([word for sentence in french_sentences for word in sentence.split()])))\n",
    "print('{} unique French words.'.format(len(french_words_counter)))\n",
    "print('10 Most common words in the French dataset:')\n",
    "print('\"' + '\" \"'.join(list(zip(*french_words_counter.most_common(10)))[0]) + '\"')"
   ]
  },
  {
   "cell_type": "markdown",
   "metadata": {},
   "source": [
    "For comparison, _Alice's Adventures in Wonderland_ contains 2,766 unique words of a total of 15,500 words.\n",
    "## Preprocess\n",
    "For this project, you won't use text data as input to your model. Instead, you'll convert the text into sequences of integers using the following preprocess methods:\n",
    "1. Tokenize the words into ids\n",
    "2. Add padding to make all the sequences the same length.\n",
    "\n",
    "Time to start preprocessing the data...\n",
    "### Tokenize (IMPLEMENTATION)\n",
    "For a neural network to predict on text data, it first has to be turned into data it can understand. Text data like \"dog\" is a sequence of ASCII character encodings.  Since a neural network is a series of multiplication and addition operations, the input data needs to be number(s).\n",
    "\n",
    "We can turn each character into a number or each word into a number.  These are called character and word ids, respectively.  Character ids are used for character level models that generate text predictions for each character.  A word level model uses word ids that generate text predictions for each word.  Word level models tend to learn better, since they are lower in complexity, so we'll use those.\n",
    "\n",
    "Turn each sentence into a sequence of words ids using Keras's [`Tokenizer`](https://keras.io/preprocessing/text/#tokenizer) function. Use this function to tokenize `english_sentences` and `french_sentences` in the cell below.\n",
    "\n",
    "Running the cell will run `tokenize` on sample data and show output for debugging."
   ]
  },
  {
   "cell_type": "code",
   "execution_count": 19,
   "metadata": {},
   "outputs": [
    {
     "name": "stdout",
     "output_type": "stream",
     "text": [
      "{'the': 1, 'quick': 2, 'a': 3, 'brown': 4, 'fox': 5, 'jumps': 6, 'over': 7, 'lazy': 8, 'dog': 9, 'by': 10, 'jove': 11, 'my': 12, 'study': 13, 'of': 14, 'lexicography': 15, 'won': 16, 'prize': 17, 'this': 18, 'is': 19, 'short': 20, 'sentence': 21}\n",
      "\n",
      "Sequence 1 in x\n",
      "  Input:  The quick brown fox jumps over the lazy dog .\n",
      "  Output: [1, 2, 4, 5, 6, 7, 1, 8, 9]\n",
      "Sequence 2 in x\n",
      "  Input:  By Jove , my quick study of lexicography won a prize .\n",
      "  Output: [10, 11, 12, 2, 13, 14, 15, 16, 3, 17]\n",
      "Sequence 3 in x\n",
      "  Input:  This is a short sentence .\n",
      "  Output: [18, 19, 3, 20, 21]\n"
     ]
    }
   ],
   "source": [
    "def tokenize(x):\n",
    "    \"\"\"\n",
    "    Tokenize x\n",
    "    :param x: List of sentences/strings to be tokenized\n",
    "    :return: Tuple of (tokenized x data, tokenizer used to tokenize x)\n",
    "    \"\"\"\n",
    "    # TODO: Implement\n",
    "    tokenize_data=Tokenizer(num_words=None,char_level=False);\n",
    "    tokenize_data.fit_on_texts(x)\n",
    "    return tokenize_data.texts_to_sequences(x), tokenize_data\n",
    "tests.test_tokenize(tokenize)\n",
    "\n",
    "# Tokenize Example output \n",
    "text_sentences = [\n",
    "    'The quick brown fox jumps over the lazy dog .',\n",
    "    'By Jove , my quick study of lexicography won a prize .',\n",
    "    'This is a short sentence .']\n",
    "text_tokenized, text_tokenizer = tokenize(text_sentences)\n",
    "print(text_tokenizer.word_index)\n",
    "print()\n",
    "for sample_i, (sent, token_sent) in enumerate(zip(text_sentences, text_tokenized)):\n",
    "    print('Sequence {} in x'.format(sample_i + 1))\n",
    "    print('  Input:  {}'.format(sent))\n",
    "    print('  Output: {}'.format(token_sent))"
   ]
  },
  {
   "cell_type": "markdown",
   "metadata": {},
   "source": [
    "### Padding (IMPLEMENTATION)\n",
    "When batching the sequence of word ids together, each sequence needs to be the same length.  Since sentences are dynamic in length, we can add padding to the end of the sequences to make them the same length.\n",
    "\n",
    "Make sure all the English sequences have the same length and all the French sequences have the same length by adding padding to the **end** of each sequence using Keras's [`pad_sequences`](https://keras.io/preprocessing/sequence/#pad_sequences) function."
   ]
  },
  {
   "cell_type": "code",
   "execution_count": 20,
   "metadata": {},
   "outputs": [
    {
     "name": "stdout",
     "output_type": "stream",
     "text": [
      "Sequence 1 in x\n",
      "  Input:  [1 2 4 5 6 7 1 8 9]\n",
      "  Output: [1 2 4 5 6 7 1 8 9 0]\n",
      "Sequence 2 in x\n",
      "  Input:  [10 11 12  2 13 14 15 16  3 17]\n",
      "  Output: [10 11 12  2 13 14 15 16  3 17]\n",
      "Sequence 3 in x\n",
      "  Input:  [18 19  3 20 21]\n",
      "  Output: [18 19  3 20 21  0  0  0  0  0]\n"
     ]
    }
   ],
   "source": [
    "def pad(x, length=None):\n",
    "    \"\"\"\n",
    "    Pad x\n",
    "    :param x: List of sequences.\n",
    "    :param length: Length to pad the sequence to.  If None, use length of longest sequence in x.\n",
    "    :return: Padded numpy array of sequences\n",
    "    \"\"\"\n",
    "    # TODO: Implement\n",
    "    padded = pad_sequences(x, maxlen=length,\n",
    "                              padding='post', truncating='post')\n",
    "    return padded \n",
    "tests.test_pad(pad)\n",
    "\n",
    "# Pad Tokenized output\n",
    "test_pad = pad(text_tokenized)\n",
    "for sample_i, (token_sent, pad_sent) in enumerate(zip(text_tokenized, test_pad)):\n",
    "    print('Sequence {} in x'.format(sample_i + 1))\n",
    "    print('  Input:  {}'.format(np.array(token_sent)))\n",
    "    print('  Output: {}'.format(pad_sent))"
   ]
  },
  {
   "cell_type": "markdown",
   "metadata": {},
   "source": [
    "### Preprocess Pipeline\n",
    "Your focus for this project is to build neural network architecture, so we won't ask you to create a preprocess pipeline.  Instead, we've provided you with the implementation of the `preprocess` function."
   ]
  },
  {
   "cell_type": "code",
   "execution_count": 10,
   "metadata": {},
   "outputs": [
    {
     "name": "stdout",
     "output_type": "stream",
     "text": [
      "Data Preprocessed\n",
      "Max English sentence length: 15\n",
      "Max French sentence length: 21\n",
      "English vocabulary size: 199\n",
      "French vocabulary size: 345\n"
     ]
    }
   ],
   "source": [
    "def preprocess(x, y):\n",
    "    \"\"\"\n",
    "    Preprocess x and y\n",
    "    :param x: Feature List of sentences\n",
    "    :param y: Label List of sentences\n",
    "    :return: Tuple of (Preprocessed x, Preprocessed y, x tokenizer, y tokenizer)\n",
    "    \"\"\"\n",
    "    preprocess_x, x_tk = tokenize(x)\n",
    "    preprocess_y, y_tk = tokenize(y)\n",
    "\n",
    "    preprocess_x = pad(preprocess_x)\n",
    "    preprocess_y = pad(preprocess_y)\n",
    "\n",
    "    # Keras's sparse_categorical_crossentropy function requires the labels to be in 3 dimensions\n",
    "    preprocess_y = preprocess_y.reshape(*preprocess_y.shape, 1)\n",
    "\n",
    "    return preprocess_x, preprocess_y, x_tk, y_tk\n",
    "\n",
    "preproc_english_sentences, preproc_french_sentences, english_tokenizer, french_tokenizer =\\\n",
    "    preprocess(english_sentences, french_sentences)\n",
    "    \n",
    "max_english_sequence_length = preproc_english_sentences.shape[1]\n",
    "max_french_sequence_length = preproc_french_sentences.shape[1]\n",
    "english_vocab_size = len(english_tokenizer.word_index)\n",
    "french_vocab_size = len(french_tokenizer.word_index)\n",
    "print('Data Preprocessed')\n",
    "print(\"Max English sentence length:\", max_english_sequence_length)\n",
    "print(\"Max French sentence length:\", max_french_sequence_length)\n",
    "print(\"English vocabulary size:\", english_vocab_size)\n",
    "print(\"French vocabulary size:\", french_vocab_size)"
   ]
  },
  {
   "cell_type": "markdown",
   "metadata": {},
   "source": [
    "## Models\n",
    "In this section, you will experiment with various neural network architectures.\n",
    "You will begin by training four relatively simple architectures.\n",
    "- Model 1 is a simple RNN\n",
    "- Model 2 is a RNN with Embedding\n",
    "- Model 3 is a Bidirectional RNN\n",
    "- Model 4 is an optional Encoder-Decoder RNN\n",
    "\n",
    "After experimenting with the four simple architectures, you will construct a deeper architecture that is designed to outperform all four models.\n",
    "### Ids Back to Text\n",
    "The neural network will be translating the input to words ids, which isn't the final form we want.  We want the French translation.  The function `logits_to_text` will bridge the gab between the logits from the neural network to the French translation.  You'll be using this function to better understand the output of the neural network."
   ]
  },
  {
   "cell_type": "code",
   "execution_count": 21,
   "metadata": {},
   "outputs": [
    {
     "name": "stdout",
     "output_type": "stream",
     "text": [
      "`logits_to_text` function loaded.\n"
     ]
    }
   ],
   "source": [
    "def logits_to_text(logits, tokenizer):\n",
    "    \"\"\"\n",
    "    Turn logits from a neural network into text using the tokenizer\n",
    "    :param logits: Logits from a neural network\n",
    "    :param tokenizer: Keras Tokenizer fit on the labels\n",
    "    :return: String that represents the text of the logits\n",
    "    \"\"\"\n",
    "    index_to_words = {id: word for word, id in tokenizer.word_index.items()}\n",
    "    index_to_words[0] = '<PAD>'\n",
    "\n",
    "    return ' '.join([index_to_words[prediction] for prediction in np.argmax(logits, 1)])\n",
    "\n",
    "print('`logits_to_text` function loaded.')"
   ]
  },
  {
   "cell_type": "markdown",
   "metadata": {},
   "source": [
    "### Model 1: RNN (IMPLEMENTATION)\n",
    "![RNN](images/rnn.png)\n",
    "A basic RNN model is a good baseline for sequence data.  In this model, you'll build a RNN that translates English to French."
   ]
  },
  {
   "cell_type": "code",
   "execution_count": 34,
   "metadata": {},
   "outputs": [
    {
     "name": "stdout",
     "output_type": "stream",
     "text": [
      "shape: (137861, 21, 1)\n",
      "_________________________________________________________________\n",
      "Layer (type)                 Output Shape              Param #   \n",
      "=================================================================\n",
      "lstm_16 (LSTM)               (None, 21, 100)           40800     \n",
      "_________________________________________________________________\n",
      "dense_24 (Dense)             (None, 21, 367)           37067     \n",
      "_________________________________________________________________\n",
      "activation_9 (Activation)    (None, 21, 367)           0         \n",
      "=================================================================\n",
      "Total params: 77,867\n",
      "Trainable params: 77,867\n",
      "Non-trainable params: 0\n",
      "_________________________________________________________________\n",
      "Train on 110288 samples, validate on 27573 samples\n",
      "Epoch 1/10\n",
      "110288/110288 [==============================] - 383s 3ms/step - loss: 3.3492 - acc: 0.4212 - val_loss: 2.4766 - val_acc: 0.4630\n",
      "Epoch 2/10\n",
      "110288/110288 [==============================] - 382s 3ms/step - loss: 2.4085 - acc: 0.4789 - val_loss: 2.1311 - val_acc: 0.5056\n",
      "Epoch 3/10\n",
      "110288/110288 [==============================] - 374s 3ms/step - loss: 2.0823 - acc: 0.5298 - val_loss: 1.8420 - val_acc: 0.5504\n",
      "Epoch 4/10\n",
      "110288/110288 [==============================] - 369s 3ms/step - loss: 1.8603 - acc: 0.5594 - val_loss: 1.7059 - val_acc: 0.5677\n",
      "Epoch 5/10\n",
      "110288/110288 [==============================] - 366s 3ms/step - loss: 1.7383 - acc: 0.5762 - val_loss: 1.6449 - val_acc: 0.5830\n",
      "Epoch 6/10\n",
      "110288/110288 [==============================] - 366s 3ms/step - loss: 1.6593 - acc: 0.5876 - val_loss: 1.6079 - val_acc: 0.5850\n",
      "Epoch 7/10\n",
      "110288/110288 [==============================] - 406s 4ms/step - loss: 1.5985 - acc: 0.5933 - val_loss: 1.5877 - val_acc: 0.5863\n",
      "Epoch 8/10\n",
      "110288/110288 [==============================] - 398s 4ms/step - loss: 1.5491 - acc: 0.5993 - val_loss: 1.5763 - val_acc: 0.5853\n",
      "Epoch 9/10\n",
      "110288/110288 [==============================] - 389s 4ms/step - loss: 1.5065 - acc: 0.6065 - val_loss: 1.5639 - val_acc: 0.5823\n",
      "Epoch 10/10\n",
      "110288/110288 [==============================] - 398s 4ms/step - loss: 1.4705 - acc: 0.6113 - val_loss: 1.5569 - val_acc: 0.5830\n",
      "new jersey est parfois parfois en l' mais il est agrã©able en en <PAD> <PAD> <PAD> <PAD> <PAD> <PAD> <PAD> <PAD>\n"
     ]
    }
   ],
   "source": [
    "def simple_model(input_shape, output_sequence_length, english_vocab_size, french_vocab_size):\n",
    "    \"\"\"\n",
    "    Build and train a basic RNN on x and y\n",
    "    :param input_shape: Tuple of input shape\n",
    "    :param output_sequence_length: Length of output sequence\n",
    "    :param english_vocab_size: Number of unique English words in the dataset\n",
    "    :param french_vocab_size: Number of unique French words in the dataset\n",
    "    :return: Keras model built, but not trained\n",
    "    \"\"\"\n",
    "    # TODO: Build the layers\n",
    "    \n",
    "    #Config Hyperparameters\n",
    "    learning_rate = 0.001\n",
    "    \n",
    "    #Create Model\n",
    "    model = Sequential()\n",
    "    model.add(LSTM(100, input_shape = input_shape[1:], dropout = 0.2, return_sequences = True))\n",
    "    model.add(Dense(french_vocab_size))      \n",
    "    model.add(Activation('softmax'))\n",
    "    model.compile(loss=sparse_categorical_crossentropy,\n",
    "                            optimizer=Adam(learning_rate),\n",
    "                            metrics=['accuracy'])\n",
    "    return model\n",
    "tests.test_simple_model(simple_model)\n",
    "\n",
    "# Reshaping the input to work with a basic RNN\n",
    "tmp_x = pad(preproc_english_sentences, preproc_french_sentences.shape[1])\n",
    "tmp_x = tmp_x.reshape((-1, preproc_french_sentences.shape[-2], 1))\n",
    "\n",
    "print(\"shape:\",tmp_x.shape)\n",
    "\n",
    "# Train the neural network\n",
    "simple_rnn_model = simple_model(\n",
    "    tmp_x.shape,\n",
    "    preproc_french_sentences.shape[1],\n",
    "    len(english_tokenizer.word_index),\n",
    "    len(french_tokenizer.word_index)+22)\n",
    "simple_rnn_model.summary()\n",
    "simple_rnn_model.fit(tmp_x, preproc_french_sentences, batch_size=1024, epochs=10, validation_split=0.2)\n",
    "\n",
    "# Print prediction(s)\n",
    "print(logits_to_text(simple_rnn_model.predict(tmp_x[:1])[0], french_tokenizer))"
   ]
  },
  {
   "cell_type": "markdown",
   "metadata": {},
   "source": [
    "### Model 2: Embedding (IMPLEMENTATION)\n",
    "![RNN](images/embedding.png)\n",
    "You've turned the words into ids, but there's a better representation of a word.  This is called word embeddings.  An embedding is a vector representation of the word that is close to similar words in n-dimensional space, where the n represents the size of the embedding vectors.\n",
    "\n",
    "In this model, you'll create a RNN model using embedding."
   ]
  },
  {
   "cell_type": "code",
   "execution_count": 61,
   "metadata": {},
   "outputs": [
    {
     "name": "stdout",
     "output_type": "stream",
     "text": [
      "_________________________________________________________________\n",
      "Layer (type)                 Output Shape              Param #   \n",
      "=================================================================\n",
      "input_33 (InputLayer)        (None, 21)                0         \n",
      "_________________________________________________________________\n",
      "embedding_10 (Embedding)     (None, 21, 21)            4620      \n",
      "_________________________________________________________________\n",
      "gru_33 (GRU)                 (None, 21, 21)            2709      \n",
      "_________________________________________________________________\n",
      "time_distributed_32 (TimeDis (None, 21, 366)           8052      \n",
      "=================================================================\n",
      "Total params: 15,381\n",
      "Trainable params: 15,381\n",
      "Non-trainable params: 0\n",
      "_________________________________________________________________\n",
      "Train on 110288 samples, validate on 27573 samples\n",
      "Epoch 1/10\n",
      "110288/110288 [==============================] - 122s 1ms/step - loss: 2.9378 - acc: 0.4512 - val_loss: 1.9211 - val_acc: 0.5728\n",
      "Epoch 2/10\n",
      "110288/110288 [==============================] - 118s 1ms/step - loss: 1.4887 - acc: 0.6299 - val_loss: 1.1504 - val_acc: 0.7022\n",
      "Epoch 3/10\n",
      "110288/110288 [==============================] - 121s 1ms/step - loss: 0.9772 - acc: 0.7364 - val_loss: 0.8552 - val_acc: 0.7608\n",
      "Epoch 4/10\n",
      "110288/110288 [==============================] - 121s 1ms/step - loss: 0.7818 - acc: 0.7798 - val_loss: 0.7347 - val_acc: 0.7874\n",
      "Epoch 5/10\n",
      "110288/110288 [==============================] - 124s 1ms/step - loss: 0.6883 - acc: 0.8021 - val_loss: 0.6535 - val_acc: 0.8108\n",
      "Epoch 6/10\n",
      "110288/110288 [==============================] - 122s 1ms/step - loss: 0.6373 - acc: 0.8151 - val_loss: 0.6139 - val_acc: 0.8199\n",
      "Epoch 7/10\n",
      "110288/110288 [==============================] - 122s 1ms/step - loss: 0.6028 - acc: 0.8241 - val_loss: 0.5862 - val_acc: 0.8275\n",
      "Epoch 8/10\n",
      "110288/110288 [==============================] - 123s 1ms/step - loss: 0.5748 - acc: 0.8315 - val_loss: 0.5699 - val_acc: 0.8312\n",
      "Epoch 9/10\n",
      "110288/110288 [==============================] - 120s 1ms/step - loss: 0.5529 - acc: 0.8374 - val_loss: 0.5418 - val_acc: 0.8404\n",
      "Epoch 10/10\n",
      "110288/110288 [==============================] - 121s 1ms/step - loss: 0.5342 - acc: 0.8423 - val_loss: 0.5259 - val_acc: 0.8427\n",
      "new jersey est parfois calme en l' et et il est neigeux en avril <PAD> <PAD> <PAD> <PAD> <PAD> <PAD> <PAD>\n"
     ]
    }
   ],
   "source": [
    "def embed_model(input_shape, output_sequence_length, english_vocab_size, french_vocab_size):\n",
    "    \"\"\"\n",
    "    Build and train a RNN model using word embedding on x and y\n",
    "    :param input_shape: Tuple of input shape\n",
    "    :param output_sequence_length: Length of output sequence\n",
    "    :param english_vocab_size: Number of unique English words in the dataset\n",
    "    :param french_vocab_size: Number of unique French words in the dataset\n",
    "    :return: Keras model built, but not trained\n",
    "    \"\"\"\n",
    "    # TODO: Implement\n",
    "    #learning parameter\n",
    "    learning_rate=0.01\n",
    "    \n",
    "    #Input layer\n",
    "    inputs=Input(input_shape[1:])\n",
    "    embedding_layer=Embedding(input_dim=english_vocab_size,output_dim=output_sequence_length,mask_zero=False)(inputs)\n",
    "    hidden_layer=GRU(output_sequence_length,return_sequences=True)(embedding_layer)\n",
    "    outputs=TimeDistributed(Dense(french_vocab_size,activation='softmax'))(hidden_layer)\n",
    "   \n",
    "    #creating a model\n",
    "    model=Model(inputs=inputs,outputs=outputs)\n",
    "    model.compile(loss=sparse_categorical_crossentropy,optimizer=Adam(learning_rate),metrics=['accuracy'])\n",
    "    return model\n",
    "tests.test_embed_model(embed_model)\n",
    "\n",
    "\n",
    "# TODO: Reshape the input\n",
    "tmp_x = pad(preproc_english_sentences, preproc_french_sentences.shape[1])\n",
    "tmp_x = tmp_x.reshape((-1, preproc_french_sentences.shape[-2]))\n",
    "\n",
    "\n",
    "# TODO: Train the neural network\n",
    "embed_rnn_model = embed_model(\n",
    "    tmp_x.shape,\n",
    "    preproc_french_sentences.shape[1],\n",
    "    len(english_tokenizer.word_index)+21,\n",
    "    len(french_tokenizer.word_index)+21)\n",
    "embed_rnn_model.summary()\n",
    "embed_rnn_model.fit(tmp_x, preproc_french_sentences, batch_size=1024, epochs=10, validation_split=0.2)\n",
    "\n",
    "\n",
    "# TODO: Print prediction(s)\n",
    "\n",
    "print(logits_to_text(embed_rnn_model.predict(tmp_x[:1])[0], french_tokenizer))"
   ]
  },
  {
   "cell_type": "markdown",
   "metadata": {},
   "source": [
    "### Model 3: Bidirectional RNNs (IMPLEMENTATION)\n",
    "![RNN](images/bidirectional.png)\n",
    "One restriction of a RNN is that it can't see the future input, only the past.  This is where bidirectional recurrent neural networks come in.  They are able to see the future data."
   ]
  },
  {
   "cell_type": "code",
   "execution_count": 68,
   "metadata": {},
   "outputs": [
    {
     "name": "stdout",
     "output_type": "stream",
     "text": [
      "_________________________________________________________________\n",
      "Layer (type)                 Output Shape              Param #   \n",
      "=================================================================\n",
      "input_40 (InputLayer)        (None, 21, 1)             0         \n",
      "_________________________________________________________________\n",
      "bidirectional_3 (Bidirection (None, 21, 42)            2898      \n",
      "_________________________________________________________________\n",
      "time_distributed_35 (TimeDis (None, 21, 366)           15738     \n",
      "=================================================================\n",
      "Total params: 18,636\n",
      "Trainable params: 18,636\n",
      "Non-trainable params: 0\n",
      "_________________________________________________________________\n",
      "Train on 110288 samples, validate on 27573 samples\n",
      "Epoch 1/10\n",
      "110288/110288 [==============================] - 128s 1ms/step - loss: 2.5208 - acc: 0.5017 - val_loss: 1.7321 - val_acc: 0.5804\n",
      "Epoch 2/10\n",
      "110288/110288 [==============================] - 127s 1ms/step - loss: 1.5671 - acc: 0.5993 - val_loss: 1.4612 - val_acc: 0.6185\n",
      "Epoch 3/10\n",
      "110288/110288 [==============================] - 125s 1ms/step - loss: 1.3953 - acc: 0.6315 - val_loss: 1.3406 - val_acc: 0.6386\n",
      "Epoch 4/10\n",
      "110288/110288 [==============================] - 127s 1ms/step - loss: 1.3046 - acc: 0.6443 - val_loss: 1.2742 - val_acc: 0.6463\n",
      "Epoch 5/10\n",
      "110288/110288 [==============================] - 125s 1ms/step - loss: 1.2510 - acc: 0.6533 - val_loss: 1.2284 - val_acc: 0.6592\n",
      "Epoch 6/10\n",
      "110288/110288 [==============================] - 126s 1ms/step - loss: 1.2124 - acc: 0.6600 - val_loss: 1.1961 - val_acc: 0.6634\n",
      "Epoch 7/10\n",
      "110288/110288 [==============================] - 126s 1ms/step - loss: 1.1835 - acc: 0.6651 - val_loss: 1.1710 - val_acc: 0.6683\n",
      "Epoch 8/10\n",
      "110288/110288 [==============================] - 129s 1ms/step - loss: 1.1624 - acc: 0.6681 - val_loss: 1.1529 - val_acc: 0.6706\n",
      "Epoch 9/10\n",
      "110288/110288 [==============================] - 133s 1ms/step - loss: 1.1464 - acc: 0.6704 - val_loss: 1.1386 - val_acc: 0.6711\n",
      "Epoch 10/10\n",
      "110288/110288 [==============================] - 129s 1ms/step - loss: 1.1331 - acc: 0.6719 - val_loss: 1.1271 - val_acc: 0.6737\n",
      "new jersey est parfois calme en l' et il est est en en <PAD> <PAD> <PAD> <PAD> <PAD> <PAD> <PAD> <PAD>\n"
     ]
    }
   ],
   "source": [
    "def bd_model(input_shape, output_sequence_length, english_vocab_size, french_vocab_size):\n",
    "    \"\"\"\n",
    "    Build and train a bidirectional RNN model on x and y\n",
    "    :param input_shape: Tuple of input shape\n",
    "    :param output_sequence_length: Length of output sequence\n",
    "    :param english_vocab_size: Number of unique English words in the dataset\n",
    "    :param french_vocab_size: Number of unique French words in the dataset\n",
    "    :return: Keras model built, but not trained\n",
    "    \"\"\"\n",
    "    # TODO: Implement\n",
    "    \n",
    "    #learning parameter\n",
    "    learning_rate=0.01\n",
    "    \n",
    "    #Inputs layers\n",
    "    inputs=Input(input_shape[1:])\n",
    "    bd_layer=Bidirectional(GRU(output_sequence_length,return_sequences=True))(inputs)\n",
    "    outputs=TimeDistributed(Dense(french_vocab_size,activation='softmax'))(bd_layer)\n",
    "    \n",
    "    #model construction\n",
    "    model=Model(inputs=inputs,outputs=outputs)\n",
    "    model.compile(loss=sparse_categorical_crossentropy,optimizer=Adam(learning_rate),metrics=['accuracy'])\n",
    "    \n",
    "    return model\n",
    "tests.test_bd_model(bd_model)\n",
    "\n",
    "# TODO: Reshape the input\n",
    "tmp_x = pad(preproc_english_sentences, preproc_french_sentences.shape[1])\n",
    "tmp_x = tmp_x.reshape((-1, preproc_french_sentences.shape[-2], 1))\n",
    "\n",
    "# Train the neural network\n",
    "bd_rnn_model = bd_model(\n",
    "    tmp_x.shape,\n",
    "    preproc_french_sentences.shape[1],\n",
    "    len(english_tokenizer.word_index) + 21,\n",
    "    len(french_tokenizer.word_index) + 21)\n",
    "bd_rnn_model.summary()\n",
    "bd_rnn_model.fit(tmp_x, preproc_french_sentences, batch_size=1024, epochs=10, validation_split=0.2)\n",
    "\n",
    "\n",
    "# TODO: Train and Print prediction(s)\n",
    "print(logits_to_text(bd_rnn_model.predict(tmp_x[:1])[0], french_tokenizer))"
   ]
  },
  {
   "cell_type": "markdown",
   "metadata": {},
   "source": [
    "### Model 4: Encoder-Decoder (OPTIONAL)\n",
    "Time to look at encoder-decoder models.  This model is made up of an encoder and decoder. The encoder creates a matrix representation of the sentence.  The decoder takes this matrix as input and predicts the translation as output.\n",
    "\n",
    "Create an encoder-decoder model in the cell below."
   ]
  },
  {
   "cell_type": "code",
   "execution_count": 12,
   "metadata": {},
   "outputs": [
    {
     "name": "stdout",
     "output_type": "stream",
     "text": [
      "_________________________________________________________________\n",
      "Layer (type)                 Output Shape              Param #   \n",
      "=================================================================\n",
      "input_2 (InputLayer)         (None, 21, 1)             0         \n",
      "_________________________________________________________________\n",
      "gru_3 (GRU)                  (None, 21)                1449      \n",
      "_________________________________________________________________\n",
      "dense_3 (Dense)              (None, 128)               2816      \n",
      "_________________________________________________________________\n",
      "repeat_vector_2 (RepeatVecto (None, 21, 128)           0         \n",
      "_________________________________________________________________\n",
      "gru_4 (GRU)                  (None, 21, 128)           98688     \n",
      "_________________________________________________________________\n",
      "time_distributed_2 (TimeDist (None, 21, 366)           47214     \n",
      "=================================================================\n",
      "Total params: 150,167\n",
      "Trainable params: 150,167\n",
      "Non-trainable params: 0\n",
      "_________________________________________________________________\n",
      "Train on 110288 samples, validate on 27573 samples\n",
      "Epoch 1/10\n",
      "110288/110288 [==============================] - 217s 2ms/step - loss: 2.5959 - acc: 0.4708 - val_loss: 1.9904 - val_acc: 0.5277\n",
      "Epoch 2/10\n",
      "110288/110288 [==============================] - 223s 2ms/step - loss: 1.8825 - acc: 0.5401 - val_loss: 1.8478 - val_acc: 0.5455\n",
      "Epoch 3/10\n",
      "110288/110288 [==============================] - 253s 2ms/step - loss: 1.6910 - acc: 0.5669 - val_loss: 1.5802 - val_acc: 0.5843\n",
      "Epoch 4/10\n",
      "110288/110288 [==============================] - 252s 2ms/step - loss: 1.5459 - acc: 0.5867 - val_loss: 1.4777 - val_acc: 0.5983\n",
      "Epoch 5/10\n",
      "110288/110288 [==============================] - 212s 2ms/step - loss: 1.5300 - acc: 0.5889 - val_loss: 1.5019 - val_acc: 0.5892\n",
      "Epoch 6/10\n",
      "110288/110288 [==============================] - 216s 2ms/step - loss: 1.4285 - acc: 0.6050 - val_loss: 1.3947 - val_acc: 0.6099\n",
      "Epoch 7/10\n",
      "110288/110288 [==============================] - 217s 2ms/step - loss: 1.3890 - acc: 0.6124 - val_loss: 1.3627 - val_acc: 0.6165\n",
      "Epoch 8/10\n",
      "110288/110288 [==============================] - 222s 2ms/step - loss: 1.4396 - acc: 0.6028 - val_loss: 1.3753 - val_acc: 0.6159\n",
      "Epoch 9/10\n",
      "110288/110288 [==============================] - 221s 2ms/step - loss: 1.3502 - acc: 0.6225 - val_loss: 1.3214 - val_acc: 0.6259\n",
      "Epoch 10/10\n",
      "110288/110288 [==============================] - 227s 2ms/step - loss: 1.3300 - acc: 0.6277 - val_loss: 1.2988 - val_acc: 0.6331\n",
      "new jersey est jamais en en et et il est est en en <PAD> <PAD> <PAD> <PAD> <PAD> <PAD> <PAD> <PAD>\n"
     ]
    }
   ],
   "source": [
    "def encdec_model(input_shape, output_sequence_length, english_vocab_size, french_vocab_size):\n",
    "    \"\"\"\n",
    "    Build and train an encoder-decoder model on x and y\n",
    "    :param input_shape: Tuple of input shape\n",
    "    :param output_sequence_length: Length of output sequence\n",
    "    :param english_vocab_size: Number of unique English words in the dataset\n",
    "    :param french_vocab_size: Number of unique French words in the dataset\n",
    "    :return: Keras model built, but not trained\n",
    "    \"\"\"\n",
    "    # OPTIONAL: Implement\n",
    "    \n",
    "    #learning parameters\n",
    "    learning_rate=0.01\n",
    "    latent_dim=128\n",
    "    \n",
    "    #encoding layer\n",
    "    \n",
    "    encoder_input=Input(input_shape[1:])\n",
    "    encoder_hidden_layer=GRU(output_sequence_length)(encoder_input)\n",
    "    encoder_output=Dense(latent_dim,activation='relu')(encoder_hidden_layer)\n",
    "    \n",
    "    #Decoding layer\n",
    "    \n",
    "    decoder_input=RepeatVector(output_sequence_length)(encoder_output)\n",
    "    decoder_hidden_layer=GRU(latent_dim,return_sequences=True)(decoder_input)\n",
    "    decoder_output=TimeDistributed(Dense(french_vocab_size,activation='softmax'))(decoder_hidden_layer)\n",
    "    \n",
    "    #Model creation\n",
    "    model=Model(inputs=encoder_input,outputs=decoder_output)\n",
    "    model.compile(loss=sparse_categorical_crossentropy,optimizer=Adam(learning_rate),metrics=['accuracy'])\n",
    "    \n",
    "    return model\n",
    "tests.test_encdec_model(encdec_model)\n",
    "\n",
    "\n",
    "# OPTIONAL: Train and Print prediction(s)\n",
    "\n",
    "# TODO: Reshape the input\n",
    "tmp_x = pad(preproc_english_sentences, preproc_french_sentences.shape[1])\n",
    "tmp_x = tmp_x.reshape((-1, preproc_french_sentences.shape[-2], 1))\n",
    "\n",
    "# Train the neural network\n",
    "encdec_rnn_model = encdec_model(\n",
    "    tmp_x.shape,\n",
    "    preproc_french_sentences.shape[1],\n",
    "    len(english_tokenizer.word_index)+21,\n",
    "    len(french_tokenizer.word_index)+21)\n",
    "encdec_rnn_model.summary()\n",
    "encdec_rnn_model.fit(tmp_x, preproc_french_sentences, batch_size=1024, epochs=10, validation_split=0.2)\n",
    "\n",
    "# Print prediction(s)\n",
    "print(logits_to_text(encdec_rnn_model.predict(tmp_x[:1])[0], french_tokenizer))"
   ]
  },
  {
   "cell_type": "markdown",
   "metadata": {},
   "source": [
    "### Model 5: Custom (IMPLEMENTATION)\n",
    "Use everything you learned from the previous models to create a model that incorporates embedding and a bidirectional rnn into one model."
   ]
  },
  {
   "cell_type": "code",
   "execution_count": 31,
   "metadata": {},
   "outputs": [
    {
     "name": "stdout",
     "output_type": "stream",
     "text": [
      "Final Model Loaded\n"
     ]
    }
   ],
   "source": [
    "def model_final(input_shape, output_sequence_length, english_vocab_size, french_vocab_size):\n",
    "    \"\"\"\n",
    "    Build and train a model that incorporates embedding, encoder-decoder, and bidirectional RNN on x and y\n",
    "    :param input_shape: Tuple of input shape\n",
    "    :param output_sequence_length: Length of output sequence\n",
    "    :param english_vocab_size: Number of unique English words in the dataset\n",
    "    :param french_vocab_size: Number of unique French words in the dataset\n",
    "    :return: Keras model built, but not trained\n",
    "    \"\"\"\n",
    "    # TODO: Implement\n",
    "    \n",
    "    #learning parameters\n",
    "    learning_rate=0.001\n",
    "    \n",
    "    #consturct model\n",
    "    \n",
    "    model=Sequential();\n",
    "    #Embedding\n",
    "    model.add(Embedding(english_vocab_size, 128, input_length=input_shape[1],\n",
    "                         input_shape=input_shape[1:]))\n",
    "    #Bidirectional Encoder\n",
    "    model.add(Bidirectional(LSTM(128,dropout=0.2)))\n",
    "    model.add(RepeatVector(output_sequence_length))\n",
    "    #Bidirectional Decoder\n",
    "    model.add(Bidirectional(LSTM(128,dropout=0.2, return_sequences=True)))\n",
    "    model.add(TimeDistributed(Dense(512, activation='tanh')))\n",
    "    model.add(Dropout(0.5))\n",
    "    model.add(TimeDistributed(Dense(french_vocab_size)))\n",
    "    model.add(Activation('softmax'))\n",
    "    \n",
    "    \n",
    "    #compiling model\n",
    "    \n",
    "    model.compile(loss=sparse_categorical_crossentropy,optimizer=Adam(learning_rate),metrics=['accuracy'])\n",
    "    \n",
    "    return model\n",
    "\n",
    "tests.test_model_final(model_final)\n",
    "\n",
    "\n",
    "print('Final Model Loaded')\n"
   ]
  },
  {
   "cell_type": "markdown",
   "metadata": {},
   "source": [
    "## Prediction (IMPLEMENTATION)"
   ]
  },
  {
   "cell_type": "code",
   "execution_count": 33,
   "metadata": {
    "scrolled": true
   },
   "outputs": [
    {
     "name": "stdout",
     "output_type": "stream",
     "text": [
      "_________________________________________________________________\n",
      "Layer (type)                 Output Shape              Param #   \n",
      "=================================================================\n",
      "embedding_10 (Embedding)     (None, 15, 128)           28160     \n",
      "_________________________________________________________________\n",
      "bidirectional_17 (Bidirectio (None, 256)               263168    \n",
      "_________________________________________________________________\n",
      "repeat_vector_11 (RepeatVect (None, 21, 256)           0         \n",
      "_________________________________________________________________\n",
      "bidirectional_18 (Bidirectio (None, 21, 256)           394240    \n",
      "_________________________________________________________________\n",
      "time_distributed_14 (TimeDis (None, 21, 512)           131584    \n",
      "_________________________________________________________________\n",
      "dropout_7 (Dropout)          (None, 21, 512)           0         \n",
      "_________________________________________________________________\n",
      "time_distributed_15 (TimeDis (None, 21, 366)           187758    \n",
      "_________________________________________________________________\n",
      "activation_7 (Activation)    (None, 21, 366)           0         \n",
      "=================================================================\n",
      "Total params: 1,004,910\n",
      "Trainable params: 1,004,910\n",
      "Non-trainable params: 0\n",
      "_________________________________________________________________\n",
      "Train on 110288 samples, validate on 27573 samples\n",
      "Epoch 1/20\n",
      "110288/110288 [==============================] - 1072s 10ms/step - loss: 1.5016 - acc: 0.6171 - val_loss: 0.8220 - val_acc: 0.7616\n",
      "Epoch 2/20\n",
      "110288/110288 [==============================] - 1100s 10ms/step - loss: 0.7127 - acc: 0.7866 - val_loss: 0.4514 - val_acc: 0.8647\n",
      "Epoch 3/20\n",
      "110288/110288 [==============================] - 1086s 10ms/step - loss: 0.4401 - acc: 0.8668 - val_loss: 0.2601 - val_acc: 0.9234\n",
      "Epoch 4/20\n",
      "110288/110288 [==============================] - 1068s 10ms/step - loss: 0.3069 - acc: 0.9077 - val_loss: 0.1973 - val_acc: 0.9399\n",
      "Epoch 5/20\n",
      "110288/110288 [==============================] - 1072s 10ms/step - loss: 0.2448 - acc: 0.9260 - val_loss: 0.1805 - val_acc: 0.9443\n",
      "Epoch 6/20\n",
      "110288/110288 [==============================] - 71797s 651ms/step - loss: 0.2070 - acc: 0.9377 - val_loss: 0.1470 - val_acc: 0.9548\n",
      "Epoch 7/20\n",
      "110288/110288 [==============================] - 1233s 11ms/step - loss: 0.1790 - acc: 0.9457 - val_loss: 0.1227 - val_acc: 0.9628\n",
      "Epoch 8/20\n",
      "110288/110288 [==============================] - 1335s 12ms/step - loss: 0.1590 - acc: 0.9520 - val_loss: 0.1147 - val_acc: 0.9644\n",
      "Epoch 9/20\n",
      "110288/110288 [==============================] - 1175s 11ms/step - loss: 0.1452 - acc: 0.9561 - val_loss: 0.1067 - val_acc: 0.9680\n",
      "Epoch 10/20\n",
      "110288/110288 [==============================] - 1339s 12ms/step - loss: 0.1320 - acc: 0.9601 - val_loss: 0.0974 - val_acc: 0.9699\n",
      "Epoch 11/20\n",
      "110288/110288 [==============================] - 1350s 12ms/step - loss: 0.1205 - acc: 0.9638 - val_loss: 0.0898 - val_acc: 0.9731\n",
      "Epoch 12/20\n",
      "110288/110288 [==============================] - 1291s 12ms/step - loss: 0.1141 - acc: 0.9657 - val_loss: 0.0954 - val_acc: 0.9726\n",
      "Epoch 13/20\n",
      "110288/110288 [==============================] - 1224s 11ms/step - loss: 0.1052 - acc: 0.9683 - val_loss: 0.0805 - val_acc: 0.9764\n",
      "Epoch 14/20\n",
      "110288/110288 [==============================] - 1202s 11ms/step - loss: 0.0973 - acc: 0.9707 - val_loss: 0.0799 - val_acc: 0.9764\n",
      "Epoch 15/20\n",
      "110288/110288 [==============================] - 1176s 11ms/step - loss: 0.0908 - acc: 0.9726 - val_loss: 0.0755 - val_acc: 0.9782\n",
      "Epoch 16/20\n",
      "110288/110288 [==============================] - 1255s 11ms/step - loss: 0.0877 - acc: 0.9737 - val_loss: 0.0784 - val_acc: 0.9778\n",
      "Epoch 17/20\n",
      "110288/110288 [==============================] - 1298s 12ms/step - loss: 0.0819 - acc: 0.9756 - val_loss: 0.0693 - val_acc: 0.9804\n",
      "Epoch 18/20\n",
      "110288/110288 [==============================] - 1418s 13ms/step - loss: 0.0806 - acc: 0.9759 - val_loss: 0.0646 - val_acc: 0.9817\n",
      "Epoch 19/20\n",
      "110288/110288 [==============================] - 1473s 13ms/step - loss: 0.0750 - acc: 0.9776 - val_loss: 0.0703 - val_acc: 0.9805\n",
      "Epoch 20/20\n",
      "110288/110288 [==============================] - 1578s 14ms/step - loss: 0.0696 - acc: 0.9793 - val_loss: 0.0623 - val_acc: 0.9827\n",
      "Sample 1:\n",
      "il a vu un vieux camion jaune <PAD> <PAD> <PAD> <PAD> <PAD> <PAD> <PAD> <PAD> <PAD> <PAD> <PAD> <PAD> <PAD> <PAD>\n",
      "Il a vu un vieux camion jaune\n",
      "Sample 2:\n",
      "new jersey est parfois calme pendant l' automne et il est neigeux en avril <PAD> <PAD> <PAD> <PAD> <PAD> <PAD> <PAD>\n",
      "new jersey est parfois calme pendant l' automne et il est neigeux en avril <PAD> <PAD> <PAD> <PAD> <PAD> <PAD> <PAD>\n"
     ]
    }
   ],
   "source": [
    "def final_predictions(x, y, x_tk, y_tk):\n",
    "    \"\"\"\n",
    "    Gets predictions using the final model\n",
    "    :param x: Preprocessed English data\n",
    "    :param y: Preprocessed French data\n",
    "    :param x_tk: English tokenizer\n",
    "    :param y_tk: French tokenizer\n",
    "    \"\"\"\n",
    "    # TODO: Train neural network using model_final\n",
    "    model = model_final(x.shape,y.shape[1],len(x_tk.word_index)+21,len(y_tk.word_index)+21)\n",
    "    model.summary()\n",
    "    model.fit(x,y,epochs=20,batch_size=100,validation_split=0.2)\n",
    "    \n",
    "    ## DON'T EDIT ANYTHING BELOW THIS LINE\n",
    "    y_id_to_word = {value: key for key, value in y_tk.word_index.items()}\n",
    "    y_id_to_word[0] = '<PAD>'\n",
    "\n",
    "    sentence = 'he saw a old yellow truck'\n",
    "    sentence = [x_tk.word_index[word] for word in sentence.split()]\n",
    "    sentence = pad_sequences([sentence], maxlen=x.shape[-1], padding='post')\n",
    "    sentences = np.array([sentence[0], x[0]])\n",
    "    predictions = model.predict(sentences, len(sentences))\n",
    "\n",
    "    print('Sample 1:')\n",
    "    print(' '.join([y_id_to_word[np.argmax(x)] for x in predictions[0]]))\n",
    "    print('Il a vu un vieux camion jaune')\n",
    "    print('Sample 2:')\n",
    "    print(' '.join([y_id_to_word[np.argmax(x)] for x in predictions[1]]))\n",
    "    print(' '.join([y_id_to_word[np.max(x)] for x in y[0]]))\n",
    "\n",
    "\n",
    "final_predictions(preproc_english_sentences, preproc_french_sentences, english_tokenizer, french_tokenizer)"
   ]
  },
  {
   "cell_type": "code",
   "execution_count": null,
   "metadata": {},
   "outputs": [],
   "source": [
    "## Submission\n",
    "When you're ready to submit, complete the following steps:\n",
    "1. Review the [rubric](https://review.udacity.com/#!/rubrics/1004/view) to ensure your submission meets all requirements to pass\n",
    "2. Generate an HTML version of this notebook\n",
    "\n",
    "  - Run the next cell to attempt automatic generation (this is the recommended method in Workspaces)\n",
    "  - Navigate to **FILE -> Download as -> HTML (.html)**\n",
    "  - Manually generate a copy using `nbconvert` from your shell terminal\n",
    "```\n",
    "$ pip install nbconvert\n",
    "$ python -m nbconvert machine_translation.ipynb\n",
    "```\n",
    "  \n",
    "3. Submit the project\n",
    "\n",
    "  - If you are in a Workspace, simply click the \"Submit Project\" button (bottom towards the right)\n",
    "  \n",
    "  - Otherwise, add the following files into a zip archive and submit them \n",
    "  - `helper.py`\n",
    "  - `machine_translation.ipynb`\n",
    "  - `machine_translation.html`\n",
    "    - You can export the notebook by navigating to **File -> Download as -> HTML (.html)**."
   ]
  },
  {
   "cell_type": "code",
   "execution_count": null,
   "metadata": {},
   "outputs": [],
   "source": [
    "!!python -m nbconvert *.ipynb"
   ]
  },
  {
   "cell_type": "markdown",
   "metadata": {},
   "source": [
    "## Optional Enhancements\n",
    "\n",
    "This project focuses on learning various network architectures for machine translation, but we don't evaluate the models according to best practices by splitting the data into separate test & training sets -- so the model accuracy is overstated. Use the [`sklearn.model_selection.train_test_split()`](http://scikit-learn.org/stable/modules/generated/sklearn.model_selection.train_test_split.html) function to create separate training & test datasets, then retrain each of the models using only the training set and evaluate the prediction accuracy using the hold out test set. Does the \"best\" model change?"
   ]
  }
 ],
 "metadata": {
  "kernelspec": {
   "display_name": "Python 3",
   "language": "python",
   "name": "python3"
  },
  "language_info": {
   "codemirror_mode": {
    "name": "ipython",
    "version": 3
   },
   "file_extension": ".py",
   "mimetype": "text/x-python",
   "name": "python",
   "nbconvert_exporter": "python",
   "pygments_lexer": "ipython3",
   "version": "3.6.7"
  }
 },
 "nbformat": 4,
 "nbformat_minor": 1
}
